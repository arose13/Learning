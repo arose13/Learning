{
 "cells": [
  {
   "cell_type": "code",
   "execution_count": null,
   "metadata": {
    "collapsed": false
   },
   "outputs": [],
   "source": [
    "import numpy as np\n",
    "import pandas as pd\n",
    "import seaborn as sns\n",
    "import matplotlib.pyplot as graph\n",
    "from sklearn.model_selection import train_test_split\n",
    "from sklearn.preprocessing import OneHotEncoder, MinMaxScaler\n",
    "from keras.models import Sequential\n",
    "from keras.layers import Dense, Dropout\n",
    "from keras.optimizers import Adam\n",
    "from keras.losses import categorical_crossentropy\n",
    "from keras.callbacks import TensorBoard\n",
    "from IPython.display import display\n",
    "\n",
    "%matplotlib inline\n",
    "\n",
    "def plot_number(xi, yi=''):\n",
    "    graph.figure(figsize=(4, 4))\n",
    "    graph.title('{}'.format(yi))\n",
    "    graph.imshow(xi.reshape(28, 28), cmap='Greys')\n",
    "    graph.grid(False)\n",
    "    graph.show()"
   ]
  },
  {
   "cell_type": "code",
   "execution_count": null,
   "metadata": {
    "collapsed": false
   },
   "outputs": [],
   "source": [
    "data = pd.read_csv('data/kaggle_mnist/train.csv')\n",
    "print(data.info())\n",
    "\n",
    "y = data.pop('label').values\n",
    "x = data.values\n",
    "\n",
    "print(y.shape, x.shape)\n",
    "print(y[:5])"
   ]
  },
  {
   "cell_type": "code",
   "execution_count": null,
   "metadata": {
    "collapsed": false
   },
   "outputs": [],
   "source": [
    "pos = np.random.randint(0, len(y))\n",
    "plot_number(x[pos, :], y[pos])"
   ]
  },
  {
   "cell_type": "markdown",
   "metadata": {},
   "source": [
    "# Train Model"
   ]
  },
  {
   "cell_type": "code",
   "execution_count": null,
   "metadata": {
    "collapsed": false
   },
   "outputs": [],
   "source": [
    "# Encode\n",
    "y_onehot = OneHotEncoder(sparse=False).fit_transform(y.reshape(-1, 1))\n",
    "x_minmax = x / 255\n",
    "\n",
    "# Train Test Split\n",
    "x_train, x_val, y_train, y_val = train_test_split(x_minmax, y_onehot, test_size=0.3)\n",
    "print(x_train.shape, x_val.shape, y_train.shape, y_val.shape)\n",
    "\n",
    "plot_number(x_train[0, :], y_train[0, :])"
   ]
  },
  {
   "cell_type": "code",
   "execution_count": null,
   "metadata": {
    "collapsed": false,
    "scrolled": false
   },
   "outputs": [],
   "source": [
    "# Initialise Type\n",
    "model = Sequential()\n",
    "\n",
    "# Tensorboard Tracker\n",
    "tensor_board = TensorBoard(log_dir='./data/kaggle_mnist/', histogram_freq=1, write_graph=False)\n",
    "\n",
    "# Layers\n",
    "model.add(Dense(96, input_dim=x.shape[1], activation='relu'))\n",
    "model.add(Dropout(0.1))\n",
    "\n",
    "model.add(Dense(96, activation='relu'))\n",
    "model.add(Dropout(0.1))\n",
    "\n",
    "model.add(Dense(96, activation='relu'))\n",
    "model.add(Dropout(0.1))\n",
    "\n",
    "model.add(Dense(y_onehot.shape[1], activation='softmax'))\n",
    "\n",
    "# Compile\n",
    "model.summary()\n",
    "model.compile(\n",
    "    loss=categorical_crossentropy,\n",
    "    optimizer=Adam(lr=1e-4),\n",
    "    metrics=['accuracy']\n",
    ")\n",
    "\n",
    "# Train Model\n",
    "model.fit(\n",
    "    x_train, y_train,\n",
    "    epochs=1000, validation_split=0.25, batch_size=256,\n",
    "    verbose=2, callbacks=[tensor_board]\n",
    ")"
   ]
  },
  {
   "cell_type": "code",
   "execution_count": null,
   "metadata": {
    "collapsed": false
   },
   "outputs": [],
   "source": [
    "test_score = model.evaluate(x_val, y_val, verbose=1)\n",
    "\n",
    "print()\n",
    "for metric, number in zip(model.metrics_names, test_score):\n",
    "    print('{}: {}'.format(metric, number))"
   ]
  },
  {
   "cell_type": "markdown",
   "metadata": {},
   "source": [
    "# Test Set\n",
    "\n",
    "Let's hope..."
   ]
  },
  {
   "cell_type": "code",
   "execution_count": null,
   "metadata": {
    "collapsed": false
   },
   "outputs": [],
   "source": [
    "answer_df = pd.DataFrame(columns['ImageId', 'Label'])\n",
    "print(answer_df.info())\n",
    "\n",
    "test_set = pd.read_csv('data/kaggle_mnist/test.csv')\n",
    "print(test_set.info())\n",
    "print(test_set.columns)\n",
    "print(test_set.index)\n",
    "print(test_set.shape)"
   ]
  },
  {
   "cell_type": "code",
   "execution_count": null,
   "metadata": {
    "collapsed": true
   },
   "outputs": [],
   "source": []
  }
 ],
 "metadata": {
  "kernelspec": {
   "display_name": "Python 3",
   "language": "python",
   "name": "python3"
  },
  "language_info": {
   "codemirror_mode": {
    "name": "ipython",
    "version": 3
   },
   "file_extension": ".py",
   "mimetype": "text/x-python",
   "name": "python",
   "nbconvert_exporter": "python",
   "pygments_lexer": "ipython3",
   "version": "3.5.2"
  }
 },
 "nbformat": 4,
 "nbformat_minor": 2
}
