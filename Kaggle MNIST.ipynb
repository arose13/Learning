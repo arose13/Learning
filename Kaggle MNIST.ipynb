{
 "cells": [
  {
   "cell_type": "code",
   "execution_count": 1,
   "metadata": {},
   "outputs": [
    {
     "name": "stderr",
     "output_type": "stream",
     "text": [
      "Using TensorFlow backend.\n"
     ]
    }
   ],
   "source": [
    "import numpy as np\n",
    "import pandas as pd\n",
    "import seaborn as sns\n",
    "import matplotlib.pyplot as graph\n",
    "from sklearn.model_selection import train_test_split\n",
    "from sklearn.preprocessing import OneHotEncoder, MinMaxScaler\n",
    "from keras.models import Sequential, Model\n",
    "from keras.layers import Input, Dense, Dropout, Conv2D, MaxPool2D, Flatten\n",
    "from keras.optimizers import Adam\n",
    "from keras.losses import categorical_crossentropy\n",
    "from keras.callbacks import TensorBoard\n",
    "from IPython.display import display, Image, SVG\n",
    "\n",
    "graph.style.use('fivethirtyeight')\n",
    "\n",
    "def plot_number(xi, yi=''):\n",
    "    graph.figure(figsize=(1, 1))\n",
    "    graph.title('{}'.format(yi))\n",
    "    graph.imshow(xi.reshape(28, 28), cmap='Greys')\n",
    "    graph.grid(False)\n",
    "    graph.show()"
   ]
  },
  {
   "cell_type": "code",
   "execution_count": 2,
   "metadata": {},
   "outputs": [
    {
     "name": "stdout",
     "output_type": "stream",
     "text": [
      "<class 'pandas.core.frame.DataFrame'>\n",
      "RangeIndex: 42000 entries, 0 to 41999\n",
      "Columns: 785 entries, label to pixel783\n",
      "dtypes: int64(785)\n",
      "memory usage: 251.5 MB\n",
      "None\n",
      "(42000,) (42000, 784)\n",
      "[1 0 1 4 0]\n"
     ]
    }
   ],
   "source": [
    "data = pd.read_csv('data/kaggle_mnist/train.csv')\n",
    "print(data.info())\n",
    "\n",
    "y = data.pop('label').values\n",
    "x = data.values\n",
    "\n",
    "print(y.shape, x.shape)\n",
    "print(y[:5])"
   ]
  },
  {
   "cell_type": "code",
   "execution_count": 3,
   "metadata": {},
   "outputs": [
    {
     "data": {
      "image/png": "[encoded data removed]",
      "text/plain": [
       "<matplotlib.figure.Figure at 0x7faa3863a940>"
      ]
     },
     "metadata": {},
     "output_type": "display_data"
    }
   ],
   "source": [
    "pos = np.random.randint(0, len(y))\n",
    "plot_number(x[pos, :], y[pos])"
   ]
  },
  {
   "cell_type": "markdown",
   "metadata": {},
   "source": [
    "# Train Model"
   ]
  },
  {
   "cell_type": "code",
   "execution_count": 4,
   "metadata": {},
   "outputs": [
    {
     "name": "stdout",
     "output_type": "stream",
     "text": [
      "(29400, 784) (12600, 784) (29400, 10) (12600, 10)\n"
     ]
    },
    {
     "data": {
      "image/png": "[encoded data removed]",
      "text/plain": [
       "<matplotlib.figure.Figure at 0x7faa34d4bef0>"
      ]
     },
     "metadata": {},
     "output_type": "display_data"
    },
    {
     "name": "stdout",
     "output_type": "stream",
     "text": [
      "(29400, 28, 28, 1) (12600, 28, 28, 1) (29400, 10) (12600, 10)\n"
     ]
    }
   ],
   "source": [
    "# Encode\n",
    "y_onehot = OneHotEncoder(sparse=False).fit_transform(y.reshape(-1, 1))\n",
    "x_minmax = x / 255\n",
    "\n",
    "# Train Test Split\n",
    "x_train, x_val, y_train, y_val = train_test_split(x_minmax, y_onehot, test_size=0.3)\n",
    "print(x_train.shape, x_val.shape, y_train.shape, y_val.shape)\n",
    "\n",
    "plot_number(x_train[0, :], y_train[0, :])\n",
    "\n",
    "x_train, x_val = x_train.reshape(len(x_train), 28, 28, 1), x_val.reshape(len(x_val), 28, 28, 1)\n",
    "print(x_train.shape, x_val.shape, y_train.shape, y_val.shape)"
   ]
  },
  {
   "cell_type": "code",
   "execution_count": 5,
   "metadata": {
    "scrolled": false
   },
   "outputs": [
    {
     "name": "stdout",
     "output_type": "stream",
     "text": [
      "Convo Model\n",
      "_________________________________________________________________\n",
      "Layer (type)                 Output Shape              Param #   \n",
      "=================================================================\n",
      "input_1 (InputLayer)         (None, 28, 28, 1)         0         \n",
      "_________________________________________________________________\n",
      "conv2d_1 (Conv2D)            (None, 28, 28, 32)        64        \n",
      "_________________________________________________________________\n",
      "conv2d_2 (Conv2D)            (None, 28, 28, 32)        16416     \n",
      "_________________________________________________________________\n",
      "max_pooling2d_1 (MaxPooling2 (None, 14, 14, 32)        0         \n",
      "_________________________________________________________________\n",
      "conv2d_3 (Conv2D)            (None, 14, 14, 64)        2112      \n",
      "_________________________________________________________________\n",
      "conv2d_4 (Conv2D)            (None, 11, 11, 64)        65600     \n",
      "_________________________________________________________________\n",
      "max_pooling2d_2 (MaxPooling2 (None, 5, 5, 64)          0         \n",
      "_________________________________________________________________\n",
      "conv2d_5 (Conv2D)            (None, 5, 5, 128)         8320      \n",
      "_________________________________________________________________\n",
      "conv2d_6 (Conv2D)            (None, 2, 2, 128)         262272    \n",
      "_________________________________________________________________\n",
      "max_pooling2d_3 (MaxPooling2 (None, 1, 1, 128)         0         \n",
      "_________________________________________________________________\n",
      "flatten_1 (Flatten)          (None, 128)               0         \n",
      "=================================================================\n",
      "Total params: 354,784\n",
      "Trainable params: 354,784\n",
      "Non-trainable params: 0\n",
      "_________________________________________________________________\n",
      "------------------------------\n",
      "DNN Model\n",
      "_________________________________________________________________\n",
      "Layer (type)                 Output Shape              Param #   \n",
      "=================================================================\n",
      "input_1 (InputLayer)         (None, 28, 28, 1)         0         \n",
      "_________________________________________________________________\n",
      "conv2d_1 (Conv2D)            (None, 28, 28, 32)        64        \n",
      "_________________________________________________________________\n",
      "conv2d_2 (Conv2D)            (None, 28, 28, 32)        16416     \n",
      "_________________________________________________________________\n",
      "max_pooling2d_1 (MaxPooling2 (None, 14, 14, 32)        0         \n",
      "_________________________________________________________________\n",
      "conv2d_3 (Conv2D)            (None, 14, 14, 64)        2112      \n",
      "_________________________________________________________________\n",
      "conv2d_4 (Conv2D)            (None, 11, 11, 64)        65600     \n",
      "_________________________________________________________________\n",
      "max_pooling2d_2 (MaxPooling2 (None, 5, 5, 64)          0         \n",
      "_________________________________________________________________\n",
      "conv2d_5 (Conv2D)            (None, 5, 5, 128)         8320      \n",
      "_________________________________________________________________\n",
      "conv2d_6 (Conv2D)            (None, 2, 2, 128)         262272    \n",
      "_________________________________________________________________\n",
      "max_pooling2d_3 (MaxPooling2 (None, 1, 1, 128)         0         \n",
      "_________________________________________________________________\n",
      "flatten_1 (Flatten)          (None, 128)               0         \n",
      "_________________________________________________________________\n",
      "dense_1 (Dense)              (None, 128)               16512     \n",
      "_________________________________________________________________\n",
      "dropout_1 (Dropout)          (None, 128)               0         \n",
      "_________________________________________________________________\n",
      "dense_2 (Dense)              (None, 128)               16512     \n",
      "_________________________________________________________________\n",
      "dropout_2 (Dropout)          (None, 128)               0         \n",
      "_________________________________________________________________\n",
      "dense_3 (Dense)              (None, 10)                1290      \n",
      "=================================================================\n",
      "Total params: 389,098\n",
      "Trainable params: 389,098\n",
      "Non-trainable params: 0\n",
      "_________________________________________________________________\n"
     ]
    }
   ],
   "source": [
    "# Initialise Type\n",
    "input_layer = Input(shape=(28, 28, 1))\n",
    "\n",
    "# Convolutional Layers\n",
    "cnn = Conv2D(filters=32, kernel_size=(1, 1), activation='relu')(input_layer)\n",
    "cnn = Conv2D(filters=32, kernel_size=(4, 4), padding='same', activation='relu')(cnn)\n",
    "cnn = MaxPool2D(pool_size=(2, 2))(cnn)\n",
    "\n",
    "cnn = Conv2D(filters=64, kernel_size=(1, 1), activation='relu')(cnn)\n",
    "cnn = Conv2D(filters=64, kernel_size=(4, 4), activation='relu')(cnn)\n",
    "cnn = MaxPool2D(pool_size=(2, 2))(cnn)\n",
    "\n",
    "cnn = Conv2D(filters=128, kernel_size=(1, 1), activation='relu')(cnn)\n",
    "cnn = Conv2D(filters=128, kernel_size=(4, 4), activation='relu')(cnn)\n",
    "cnn = MaxPool2D(pool_size=(2, 2))(cnn)\n",
    "\n",
    "cnn = Flatten()(cnn)\n",
    "\n",
    "# Deep Fully Connected Layers\n",
    "dnn = Dense(128, activation='relu')(cnn)\n",
    "dnn = Dropout(0.15)(dnn)\n",
    "dnn = Dense(128, activation='relu')(dnn)\n",
    "dnn = Dropout(0.15)(dnn)\n",
    "\n",
    "dnn = Dense(y_onehot.shape[1], activation='softmax')(dnn)\n",
    "\n",
    "# Create Models\n",
    "cnn_model = Model(input_layer, cnn)\n",
    "dcnn_model = Model(input_layer, dnn)\n",
    "\n",
    "# Summaries\n",
    "print('Convo Model')\n",
    "cnn_model.summary()\n",
    "\n",
    "print('-'*30)\n",
    "print('DNN Model')\n",
    "dcnn_model.summary()\n",
    "\n",
    "# Compile\n",
    "dcnn_model.compile(\n",
    "    loss=categorical_crossentropy,\n",
    "    optimizer=Adam(lr=5e-4),\n",
    "    metrics=['accuracy']\n",
    ")"
   ]
  },
  {
   "cell_type": "code",
   "execution_count": 6,
   "metadata": {
    "scrolled": false
   },
   "outputs": [
    {
     "name": "stdout",
     "output_type": "stream",
     "text": [
      "Train on 22050 samples, validate on 7350 samples\n",
      "Epoch 1/13\n",
      "22050/22050 [==============================] - 29s - loss: 0.9736 - acc: 0.6787 - val_loss: 0.1897 - val_acc: 0.9412\n",
      "Epoch 2/13\n",
      "22050/22050 [==============================] - 29s - loss: 0.1939 - acc: 0.9399 - val_loss: 0.1188 - val_acc: 0.9638\n",
      "Epoch 3/13\n",
      "22050/22050 [==============================] - 28s - loss: 0.1225 - acc: 0.9633 - val_loss: 0.0858 - val_acc: 0.9736\n",
      "Epoch 4/13\n",
      "22050/22050 [==============================] - 27s - loss: 0.0937 - acc: 0.9715 - val_loss: 0.0654 - val_acc: 0.9816\n",
      "Epoch 5/13\n",
      "22050/22050 [==============================] - 28s - loss: 0.0677 - acc: 0.9793 - val_loss: 0.0967 - val_acc: 0.9733\n",
      "Epoch 6/13\n",
      "22050/22050 [==============================] - 29s - loss: 0.0663 - acc: 0.9797 - val_loss: 0.0465 - val_acc: 0.9865\n",
      "Epoch 7/13\n",
      "22050/22050 [==============================] - 28s - loss: 0.0518 - acc: 0.9839 - val_loss: 0.0507 - val_acc: 0.9857\n",
      "Epoch 8/13\n",
      "22050/22050 [==============================] - 28s - loss: 0.0427 - acc: 0.9865 - val_loss: 0.0464 - val_acc: 0.9865\n",
      "Epoch 9/13\n",
      "22050/22050 [==============================] - 28s - loss: 0.0294 - acc: 0.9902 - val_loss: 0.0537 - val_acc: 0.9867\n",
      "Epoch 10/13\n",
      "22050/22050 [==============================] - 28s - loss: 0.0311 - acc: 0.9900 - val_loss: 0.0475 - val_acc: 0.9871\n",
      "Epoch 11/13\n",
      "22050/22050 [==============================] - 28s - loss: 0.0237 - acc: 0.9923 - val_loss: 0.0464 - val_acc: 0.9880\n",
      "Epoch 12/13\n",
      "22050/22050 [==============================] - 29s - loss: 0.0181 - acc: 0.9946 - val_loss: 0.0524 - val_acc: 0.9867\n",
      "Epoch 13/13\n",
      "22050/22050 [==============================] - 27s - loss: 0.0183 - acc: 0.9946 - val_loss: 0.0492 - val_acc: 0.9890\n"
     ]
    }
   ],
   "source": [
    "# Train Model\n",
    "history = dcnn_model.fit(\n",
    "    x_train, y_train,\n",
    "    epochs=13, validation_split=0.25, batch_size=256,\n",
    "    verbose=1\n",
    ")"
   ]
  },
  {
   "cell_type": "code",
   "execution_count": 7,
   "metadata": {
    "scrolled": false
   },
   "outputs": [
    {
     "data": {
      "image/png": "[encoded data removed]",
      "text/plain": [
       "<matplotlib.figure.Figure at 0x7fa9f9a22e80>"
      ]
     },
     "metadata": {},
     "output_type": "display_data"
    }
   ],
   "source": [
    "graph.plot(history.history['val_acc'], label='Validation')\n",
    "graph.legend(loc=0)\n",
    "graph.show()"
   ]
  },
  {
   "cell_type": "code",
   "execution_count": 8,
   "metadata": {},
   "outputs": [
    {
     "name": "stdout",
     "output_type": "stream",
     "text": [
      "12480/12600 [============================>.] - ETA: 0s\n",
      "loss: 0.05735875407299895\n",
      "acc: 0.9842857142857143\n"
     ]
    }
   ],
   "source": [
    "test_score = dcnn_model.evaluate(x_val, y_val, verbose=1)\n",
    "\n",
    "print()\n",
    "for metric, number in zip(dcnn_model.metrics_names, test_score):\n",
    "    print('{}: {}'.format(metric, number))"
   ]
  },
  {
   "cell_type": "markdown",
   "metadata": {},
   "source": [
    "# Add Decision Trees to the Ensemble \n",
    "\n",
    "Running on features created from the convolution layers of the DCNN."
   ]
  },
  {
   "cell_type": "markdown",
   "metadata": {},
   "source": [
    "# Test Set\n",
    "\n",
    "Let's hope..."
   ]
  },
  {
   "cell_type": "code",
   "execution_count": 9,
   "metadata": {},
   "outputs": [
    {
     "name": "stdout",
     "output_type": "stream",
     "text": [
      "<class 'pandas.core.frame.DataFrame'>\n",
      "RangeIndex: 28000 entries, 0 to 27999\n",
      "Columns: 784 entries, pixel0 to pixel783\n",
      "dtypes: int64(784)\n",
      "memory usage: 167.5 MB\n",
      "None\n",
      "Index(['pixel0', 'pixel1', 'pixel2', 'pixel3', 'pixel4', 'pixel5', 'pixel6',\n",
      "       'pixel7', 'pixel8', 'pixel9',\n",
      "       ...\n",
      "       'pixel774', 'pixel775', 'pixel776', 'pixel777', 'pixel778', 'pixel779',\n",
      "       'pixel780', 'pixel781', 'pixel782', 'pixel783'],\n",
      "      dtype='object', length=784)\n",
      "RangeIndex(start=0, stop=28000, step=1)\n",
      "(28000, 784)\n"
     ]
    }
   ],
   "source": [
    "test_set = pd.read_csv('data/kaggle_mnist/test.csv')\n",
    "print(test_set.info())\n",
    "print(test_set.columns)\n",
    "print(test_set.index)\n",
    "print(test_set.shape)"
   ]
  },
  {
   "cell_type": "code",
   "execution_count": 11,
   "metadata": {},
   "outputs": [
    {
     "name": "stdout",
     "output_type": "stream",
     "text": [
      "(28000,)\n"
     ]
    },
    {
     "data": {
      "image/png": "[encoded data removed]",
      "text/plain": [
       "<matplotlib.figure.Figure at 0x7fa9b67cd390>"
      ]
     },
     "metadata": {},
     "output_type": "display_data"
    },
    {
     "data": {
      "image/png": "[encoded data removed]",
      "text/plain": [
       "<matplotlib.figure.Figure at 0x7fa9b67c9c88>"
      ]
     },
     "metadata": {},
     "output_type": "display_data"
    },
    {
     "data": {
      "image/png": "[encoded data removed]",
      "text/plain": [
       "<matplotlib.figure.Figure at 0x7fa9c40f70f0>"
      ]
     },
     "metadata": {},
     "output_type": "display_data"
    },
    {
     "data": {
      "image/png": "[encoded data removed]",
      "text/plain": [
       "<matplotlib.figure.Figure at 0x7fa9b67a7ef0>"
      ]
     },
     "metadata": {},
     "output_type": "display_data"
    },
    {
     "data": {
      "image/png": "[encoded data removed]",
      "text/plain": [
       "<matplotlib.figure.Figure at 0x7fa9b03080b8>"
      ]
     },
     "metadata": {},
     "output_type": "display_data"
    }
   ],
   "source": [
    "# answers\n",
    "x_test = test_set.values.reshape(len(test_set), 28, 28, 1)\n",
    "x_test = x_test / 255\n",
    "y_answer = dcnn_model.predict(x_test)\n",
    "y_answer = np.argmax(y_answer, axis=1)\n",
    "print(y_answer.shape)\n",
    "\n",
    "for x_eg, y_eg in zip(test_set.values[:5, :], y_answer[:5]):\n",
    "    plot_number(x_eg, y_eg)"
   ]
  },
  {
   "cell_type": "code",
   "execution_count": null,
   "metadata": {},
   "outputs": [],
   "source": [
    "answer_df = pd.DataFrame(\n",
    "    y_answer,\n",
    "    index=list(range(1, len(y_answer)+1)),\n",
    "    columns=['Label']\n",
    ")\n",
    "answer_df.index.name = 'ImageId'\n",
    "\n",
    "print(answer_df.info())\n",
    "display(answer_df.head())\n",
    "\n",
    "answer_df.to_csv('data/kaggle_mnist/submission.csv', index=True, header=True)"
   ]
  }
 ],
 "metadata": {
  "kernelspec": {
   "display_name": "Python 3",
   "language": "python",
   "name": "python3"
  },
  "language_info": {
   "codemirror_mode": {
    "name": "ipython",
    "version": 3
   },
   "file_extension": ".py",
   "mimetype": "text/x-python",
   "name": "python",
   "nbconvert_exporter": "python",
   "pygments_lexer": "ipython3",
   "version": "3.6.0"
  }
 },
 "nbformat": 4,
 "nbformat_minor": 2
}
